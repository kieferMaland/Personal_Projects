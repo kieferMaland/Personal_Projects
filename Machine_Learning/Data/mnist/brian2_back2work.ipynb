{
 "cells": [
  {
   "cell_type": "code",
   "execution_count": null,
   "metadata": {},
   "outputs": [
    {
     "ename": "",
     "evalue": "",
     "output_type": "error",
     "traceback": [
      "\u001b[1;31mThe kernel failed to start as the Python Environment 'brian2' is no longer available. Consider selecting another kernel or refreshing the list of Python Environments."
     ]
    }
   ],
   "source": [
    "from brian2 import *"
   ]
  },
  {
   "cell_type": "code",
   "execution_count": null,
   "metadata": {},
   "outputs": [],
   "source": [
    "# Simple Neuron example\n",
    "start_scope()\n",
    "\n",
    "tau = 10*ms\n",
    "\n",
    "eqs = '''\n",
    "\tdv/dt = (1-v)/tau : 1\n",
    "\t'''\n",
    "\n",
    "G = NeuronGroup(1, eqs)\n",
    "print(f'before v = {G.v[0]}')\n",
    "run(100*ms)\n",
    "print(f'after v = {G.v[0]}')"
   ]
  },
  {
   "cell_type": "code",
   "execution_count": null,
   "metadata": {},
   "outputs": [],
   "source": [
    "print('Expected value of v = %s' % (1-exp(-100*ms/tau)))"
   ]
  },
  {
   "cell_type": "code",
   "execution_count": null,
   "metadata": {},
   "outputs": [],
   "source": [
    "start_scope()\n",
    "G = NeuronGroup(1, eqs, method='exact')\n",
    "M = StateMonitor(G, 'v', record=True)\n",
    "\n",
    "run(30*ms)\n",
    "\n",
    "plot(M.t/ms, M.v[0])\n",
    "xlabel('Time (ms)')\n",
    "ylabel('v')\n"
   ]
  },
  {
   "cell_type": "code",
   "execution_count": null,
   "metadata": {},
   "outputs": [],
   "source": [
    "start_scope()\n",
    "\n",
    "G = NeuronGroup(1, eqs, method='exact')\n",
    "M = StateMonitor(G, 'v', record=0)\n",
    "\n",
    "run(30*ms)\n",
    "\n",
    "plot(M.t/ms, M.v[0], 'C0', label='Brian')\n",
    "plot(M.t/ms, 1-exp(-M.t/tau), 'C1--',label='Analytic')\n",
    "xlabel('Time (ms)')\n",
    "ylabel('v')\n",
    "legend();\n"
   ]
  },
  {
   "cell_type": "code",
   "execution_count": null,
   "metadata": {},
   "outputs": [],
   "source": [
    "start_scope()\n",
    "\n",
    "tau = 10*ms\n",
    "eqs = '''\n",
    "dv/dt = (sin(2*pi*100*Hz*t)-v)/tau : 1\n",
    "'''\n",
    "\n",
    "# Change to Euler Method because exact integrator doesnt work here\n",
    "G = NeuronGroup(1, eqs, method='euler')\n",
    "M = StateMonitor(G, 'v', record=0)\n",
    "\n",
    "G.v = 5 # initial value\n",
    "\n",
    "run(60*ms)\n",
    "\n",
    "plot(M.t/ms, M.v[0])\n",
    "xlabel('Time (ms)')\n",
    "ylabel('v');"
   ]
  },
  {
   "cell_type": "code",
   "execution_count": null,
   "metadata": {},
   "outputs": [],
   "source": [
    "start_scope()\n",
    "\n",
    "tau = 10*ms\n",
    "eqs='''\n",
    "dv/dt = (1-v)/tau : 1\n",
    "'''\n",
    "G = NeuronGroup(1, eqs, threshold='v>0.8', reset='v = 0', method='exact')\n",
    "\n",
    "M = StateMonitor(G, 'v', record=0)\n",
    "run(50*ms)\n",
    "\n",
    "plot(M.t/ms, M.v[0])\n",
    "xlabel('Time (ms)')\n",
    "ylabel('v');"
   ]
  },
  {
   "cell_type": "code",
   "execution_count": null,
   "metadata": {},
   "outputs": [],
   "source": [
    "start_scope()\n",
    "# Start with the default clock (100us per time step)\n",
    "defaultclock.dt = 0.1*ms\n",
    "\n",
    "# Define the group of 100 neurons\n",
    "N = 100  # number of neurons\n",
    "tau = 10*ms  # time constant\n",
    "vr = -70*mV  # resting potential\n",
    "vt = -60*mV  # spiking threshold\n",
    "El = -70*mV  # reversal potential\n",
    "eqs = '''\n",
    "dv/dt = (El - v + I)/tau : volt\n",
    "I : volt\n",
    "'''\n",
    "\n",
    "neurons = NeuronGroup(N, eqs, threshold='v>vt', reset='v=vr', method='euler')\n",
    "neurons.v = vr  # initial potential\n",
    "neurons.I = '20*mV * i / N'  # different input current for each neuron\n",
    "\n",
    "# Record the spike times of each neuron\n",
    "spikemon = SpikeMonitor(neurons)\n",
    "\n",
    "# Run the simulation for a certain amount of time\n",
    "run(100*ms)\n",
    "\n",
    "# Plot the spike times\n",
    "plot(spikemon.t/ms, spikemon.i, '.k')\n",
    "xlabel('Time (ms)')\n",
    "ylabel('Neuron index')\n",
    "show()\n"
   ]
  },
  {
   "cell_type": "code",
   "execution_count": null,
   "metadata": {},
   "outputs": [],
   "source": [
    "morpho = Soma(diameter=30*um)\n",
    "morpho.axon = Cylinder(length=100*um, diameter=1*um, n=10)\n",
    "morpho.dendrite = Cylinder(length=50*um, diameter=2*um, n=5)"
   ]
  },
  {
   "cell_type": "code",
   "execution_count": null,
   "metadata": {},
   "outputs": [],
   "source": [
    "morpho.dendrite.branch1 = Cylinder(length=50*um, diameter=1*um, n=3)\n",
    "morpho.dendrite.branch2 = Cylinder(length=50*um, diameter=1*um, n=3)"
   ]
  },
  {
   "cell_type": "code",
   "execution_count": null,
   "metadata": {},
   "outputs": [],
   "source": [
    ">>> morpho = Soma(diameter=30*um)\n",
    ">>> morpho.L = Cylinder(length=10*um, diameter=1*um, n=3)\n",
    ">>> morpho.L1 = Cylinder(length=5*um, diameter=1*um, n=3)\n",
    ">>> morpho.L2 = Cylinder(length=5*um, diameter=1*um, n=3)\n",
    ">>> morpho.L3 = Cylinder(length=5*um, diameter=1*um, n=3)\n",
    ">>> morpho.R = Cylinder(length=10*um, diameter=1*um, n=3)\n",
    ">>> morpho.RL = Cylinder(length=5*um, diameter=1*um, n=3)\n",
    ">>> morpho.RR = Cylinder(length=5*um, diameter=1*um, n=3)"
   ]
  },
  {
   "cell_type": "code",
   "execution_count": null,
   "metadata": {},
   "outputs": [],
   "source": [
    "morpho.topology()"
   ]
  },
  {
   "cell_type": "code",
   "execution_count": null,
   "metadata": {},
   "outputs": [],
   "source": [
    "new_morpho = morpho.generate_coordinates()"
   ]
  },
  {
   "cell_type": "code",
   "execution_count": null,
   "metadata": {},
   "outputs": [],
   "source": [
    "new_morpho = morpho.generate_coordinates(section_randomness=25,\n",
    "                                         compartment_randomness=15)"
   ]
  },
  {
   "cell_type": "code",
   "execution_count": null,
   "metadata": {},
   "outputs": [],
   "source": [
    "start_scope()\n",
    "set_device('cpp_standalone', build_on_run=False)\n",
    "\n",
    "tau = 10*ms\n",
    "I = 1  # input current\n",
    "eqs = '''\n",
    "dv/dt = (I-v)/tau : 1\n",
    "'''\n",
    "G = NeuronGroup(10, eqs, method='exact')\n",
    "G.v = 'rand()'\n",
    "mon = StateMonitor(G, 'v', record=True)\n",
    "run(20*ms)\n",
    "I = 0\n",
    "run(80*ms)\n",
    "# Actually generate/compile/run the code:\n",
    "device.build()\n",
    "\n",
    "plt.plot(mon.t/ms, mon.v.T)\n",
    "plt.gca().set(xlabel='t (ms)', ylabel='v')\n",
    "plt.show()"
   ]
  },
  {
   "cell_type": "code",
   "execution_count": null,
   "metadata": {},
   "outputs": [
    {
     "ename": "",
     "evalue": "",
     "output_type": "error",
     "traceback": [
      "\u001b[1;31mThe kernel failed to start as the Python Environment 'brian2' is no longer available. Consider selecting another kernel or refreshing the list of Python Environments."
     ]
    }
   ],
   "source": [
    "start_scope()\n",
    "\n",
    "I_e = 1.5*uA\n",
    "simulation_time = 100*ms\n",
    "# neuron RTM parameters\n",
    "El = -67 * mV\n",
    "EK = -100 * mV\n",
    "ENa = 50 * mV\n",
    "ESyn = 0 * mV\n",
    "gl = 0.1 * msiemens\n",
    "gK = 80 * msiemens\n",
    "gNa = 100 * msiemens\n",
    "\n",
    "C = 1 * ufarad\n",
    "\n",
    "weight = 0.25\n",
    "gSyn = 1.0 * msiemens\n",
    "tau_d = 2 * ms\n",
    "tau_r = 0.2 * ms\n",
    "\n",
    "# forming RTM model with differential equations\n",
    "eqs = \"\"\"\n",
    "alphah = 0.128 * exp(-(vm + 50.0*mV) / (18.0*mV))/ms :Hz\n",
    "alpham = 0.32/mV * (vm + 54*mV) / (1.0 - exp(-(vm + 54.0*mV) / (4.0*mV)))/ms:Hz\n",
    "alphan = 0.032/mV * (vm + 52*mV) / (1.0 - exp(-(vm + 52.0*mV) / (5.0*mV)))/ms:Hz\n",
    "\n",
    "betah  = 4.0 / (1.0 + exp(-(vm + 27.0*mV) / (5.0*mV)))/ms:Hz\n",
    "betam  = 0.28/mV * (vm + 27.0*mV) / (exp((vm + 27.0*mV) / (5.0*mV)) - 1.0)/ms:Hz\n",
    "betan  = 0.5 * exp(-(vm + 57.0*mV) / (40.0*mV))/ms:Hz\n",
    "\n",
    "membrane_Im = I_ext + gNa*m**3*h*(ENa-vm) +\n",
    "              gl*(El-vm) + gK*n**4*(EK-vm) + gSyn*s_in*(-vm): amp\n",
    "I_ext : amp\n",
    "s_in  : 1\n",
    "\n",
    "dm/dt = alpham*(1-m)-betam*m : 1\n",
    "dn/dt = alphan*(1-n)-betan*n : 1\n",
    "dh/dt = alphah*(1-h)-betah*h : 1\n",
    "\n",
    "ds/dt = 0.5 * (1 + tanh(0.1*vm/mV)) * (1-s)/tau_r - s/tau_d : 1\n",
    "\n",
    "dvm/dt = membrane_Im/C : volt\n",
    "\"\"\"\n",
    "\n",
    "neuron = NeuronGroup(2, eqs, method=\"exponential_euler\")\n",
    "\n",
    "# initialize variables\n",
    "neuron.vm = [-70.0, -65.0]*mV\n",
    "neuron.m = \"alpham / (alpham + betam)\"\n",
    "neuron.h = \"alphah / (alphah + betah)\"\n",
    "neuron.n = \"alphan / (alphan + betan)\"\n",
    "neuron.I_ext = [I_e, 0.0*uA]\n",
    "\n",
    "S = Synapses(neuron,\n",
    "             neuron,\n",
    "             's_in_post = weight*s_pre:1 (summed)')\n",
    "S.connect(i=0, j=1)\n",
    "\n",
    "# tracking variables\n",
    "st_mon = StateMonitor(neuron, [\"vm\", \"s\", \"s_in\"], record=[0, 1])\n",
    "\n",
    "# running the simulation\n",
    "run(simulation_time)\n",
    "\n",
    "# plot the results\n",
    "fig, ax = plt.subplots(2, figsize=(10, 6), sharex=True,\n",
    "                       gridspec_kw={'height_ratios': (3, 1)})\n",
    "\n",
    "ax[0].plot(st_mon.t/ms, st_mon.vm[0]/mV,\n",
    "           lw=2, c=\"r\", alpha=0.5, label=\"neuron 0\")\n",
    "ax[0].plot(st_mon.t/ms, st_mon.vm[1]/mV,\n",
    "           lw=2, c=\"b\", alpha=0.5, label='neuron 1')\n",
    "ax[1].plot(st_mon.t/ms, st_mon.s[0],\n",
    "           lw=2, c=\"r\", alpha=0.5, label='s, neuron 0')\n",
    "ax[1].plot(st_mon.t/ms, st_mon.s_in[1],\n",
    "           lw=2, c=\"b\", alpha=0.5, label='s_in, neuron 1')\n",
    "ax[0].set(ylabel='v [mV]', xlim=(0, np.max(st_mon.t / ms)),\n",
    "          ylim=(-100, 50))\n",
    "ax[1].set(xlabel=\"t [ms]\", ylabel=\"s\", ylim=(0, 1))\n",
    "\n",
    "ax[0].legend()\n",
    "ax[1].legend()\n",
    "\n",
    "plt.show()"
   ]
  },
  {
   "cell_type": "code",
   "execution_count": null,
   "metadata": {},
   "outputs": [],
   "source": []
  }
 ],
 "metadata": {
  "kernelspec": {
   "display_name": "brian2",
   "language": "python",
   "name": "brian2"
  },
  "language_info": {
   "codemirror_mode": {
    "name": "ipython",
    "version": 3
   },
   "file_extension": ".py",
   "mimetype": "text/x-python",
   "name": "python",
   "nbconvert_exporter": "python",
   "pygments_lexer": "ipython3",
   "version": "3.11.3"
  },
  "orig_nbformat": 4
 },
 "nbformat": 4,
 "nbformat_minor": 2
}
